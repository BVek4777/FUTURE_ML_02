{
 "cells": [
  {
   "cell_type": "markdown",
   "id": "e8ca9413",
   "metadata": {},
   "source": [
    "# importing all the necessary libraries"
   ]
  },
  {
   "cell_type": "code",
   "execution_count": 1,
   "id": "401e8a9c",
   "metadata": {},
   "outputs": [],
   "source": [
    "import pandas as pd\n",
    "import numpy as np\n",
    "import matplotlib.pyplot as plt\n",
    "import tensorflow as tf\n",
    "from tensorflow import keras\n",
    "from tensorflow.keras.layers import LSTM, Dense,Dropout\n",
    "from tensorflow.keras.models import Sequential\n",
    "from tensorflow.keras.callbacks import EarlyStopping, ReduceLROnPlateau\n",
    "from sklearn.preprocessing import MinMaxScaler\n",
    "from sklearn.model_selection import train_test_split\n",
    "from sklearn.metrics import mean_squared_error,r2_score\n",
    "import yfinance as yf\n"
   ]
  },
  {
   "cell_type": "markdown",
   "id": "899aa68c",
   "metadata": {},
   "source": [
    "# Load data from Yahoo Finance"
   ]
  },
  {
   "cell_type": "code",
   "execution_count": 2,
   "id": "25727def",
   "metadata": {},
   "outputs": [
    {
     "name": "stdout",
     "output_type": "stream",
     "text": [
      "YF.download() has changed argument auto_adjust default to True\n"
     ]
    },
    {
     "name": "stderr",
     "output_type": "stream",
     "text": [
      "[*********************100%***********************]  1 of 1 completed\n"
     ]
    }
   ],
   "source": [
    "ticker = \"AAPL\"\n",
    "data=yf.download(ticker, start=\"2024-01-01\", end=\"2025-01-01\")"
   ]
  },
  {
   "cell_type": "code",
   "execution_count": 3,
   "id": "ccdb060c",
   "metadata": {},
   "outputs": [
    {
     "data": {
      "text/html": [
       "<div>\n",
       "<style scoped>\n",
       "    .dataframe tbody tr th:only-of-type {\n",
       "        vertical-align: middle;\n",
       "    }\n",
       "\n",
       "    .dataframe tbody tr th {\n",
       "        vertical-align: top;\n",
       "    }\n",
       "\n",
       "    .dataframe thead tr th {\n",
       "        text-align: left;\n",
       "    }\n",
       "\n",
       "    .dataframe thead tr:last-of-type th {\n",
       "        text-align: right;\n",
       "    }\n",
       "</style>\n",
       "<table border=\"1\" class=\"dataframe\">\n",
       "  <thead>\n",
       "    <tr>\n",
       "      <th>Price</th>\n",
       "      <th>Close</th>\n",
       "      <th>High</th>\n",
       "      <th>Low</th>\n",
       "      <th>Open</th>\n",
       "      <th>Volume</th>\n",
       "    </tr>\n",
       "    <tr>\n",
       "      <th>Ticker</th>\n",
       "      <th>AAPL</th>\n",
       "      <th>AAPL</th>\n",
       "      <th>AAPL</th>\n",
       "      <th>AAPL</th>\n",
       "      <th>AAPL</th>\n",
       "    </tr>\n",
       "    <tr>\n",
       "      <th>Date</th>\n",
       "      <th></th>\n",
       "      <th></th>\n",
       "      <th></th>\n",
       "      <th></th>\n",
       "      <th></th>\n",
       "    </tr>\n",
       "  </thead>\n",
       "  <tbody>\n",
       "    <tr>\n",
       "      <th>2024-01-02</th>\n",
       "      <td>184.532074</td>\n",
       "      <td>187.315366</td>\n",
       "      <td>182.792518</td>\n",
       "      <td>186.033057</td>\n",
       "      <td>82488700</td>\n",
       "    </tr>\n",
       "    <tr>\n",
       "      <th>2024-01-03</th>\n",
       "      <td>183.150375</td>\n",
       "      <td>184.770652</td>\n",
       "      <td>182.335262</td>\n",
       "      <td>183.120556</td>\n",
       "      <td>58414500</td>\n",
       "    </tr>\n",
       "    <tr>\n",
       "      <th>2024-01-04</th>\n",
       "      <td>180.824356</td>\n",
       "      <td>181.997307</td>\n",
       "      <td>179.800504</td>\n",
       "      <td>181.062914</td>\n",
       "      <td>71983600</td>\n",
       "    </tr>\n",
       "    <tr>\n",
       "      <th>2024-01-05</th>\n",
       "      <td>180.098694</td>\n",
       "      <td>181.669266</td>\n",
       "      <td>179.094727</td>\n",
       "      <td>180.903872</td>\n",
       "      <td>62303300</td>\n",
       "    </tr>\n",
       "    <tr>\n",
       "      <th>2024-01-08</th>\n",
       "      <td>184.452560</td>\n",
       "      <td>184.492330</td>\n",
       "      <td>180.416793</td>\n",
       "      <td>181.003268</td>\n",
       "      <td>59144500</td>\n",
       "    </tr>\n",
       "  </tbody>\n",
       "</table>\n",
       "</div>"
      ],
      "text/plain": [
       "Price            Close        High         Low        Open    Volume\n",
       "Ticker            AAPL        AAPL        AAPL        AAPL      AAPL\n",
       "Date                                                                \n",
       "2024-01-02  184.532074  187.315366  182.792518  186.033057  82488700\n",
       "2024-01-03  183.150375  184.770652  182.335262  183.120556  58414500\n",
       "2024-01-04  180.824356  181.997307  179.800504  181.062914  71983600\n",
       "2024-01-05  180.098694  181.669266  179.094727  180.903872  62303300\n",
       "2024-01-08  184.452560  184.492330  180.416793  181.003268  59144500"
      ]
     },
     "execution_count": 3,
     "metadata": {},
     "output_type": "execute_result"
    }
   ],
   "source": [
    "data.head()"
   ]
  },
  {
   "cell_type": "code",
   "execution_count": 4,
   "id": "188467d1",
   "metadata": {},
   "outputs": [
    {
     "data": {
      "text/html": [
       "<div>\n",
       "<style scoped>\n",
       "    .dataframe tbody tr th:only-of-type {\n",
       "        vertical-align: middle;\n",
       "    }\n",
       "\n",
       "    .dataframe tbody tr th {\n",
       "        vertical-align: top;\n",
       "    }\n",
       "\n",
       "    .dataframe thead tr th {\n",
       "        text-align: left;\n",
       "    }\n",
       "\n",
       "    .dataframe thead tr:last-of-type th {\n",
       "        text-align: right;\n",
       "    }\n",
       "</style>\n",
       "<table border=\"1\" class=\"dataframe\">\n",
       "  <thead>\n",
       "    <tr>\n",
       "      <th>Price</th>\n",
       "      <th>Close</th>\n",
       "    </tr>\n",
       "    <tr>\n",
       "      <th>Ticker</th>\n",
       "      <th>AAPL</th>\n",
       "    </tr>\n",
       "    <tr>\n",
       "      <th>Date</th>\n",
       "      <th></th>\n",
       "    </tr>\n",
       "  </thead>\n",
       "  <tbody>\n",
       "    <tr>\n",
       "      <th>2024-01-02</th>\n",
       "      <td>184.532074</td>\n",
       "    </tr>\n",
       "    <tr>\n",
       "      <th>2024-01-03</th>\n",
       "      <td>183.150375</td>\n",
       "    </tr>\n",
       "    <tr>\n",
       "      <th>2024-01-04</th>\n",
       "      <td>180.824356</td>\n",
       "    </tr>\n",
       "    <tr>\n",
       "      <th>2024-01-05</th>\n",
       "      <td>180.098694</td>\n",
       "    </tr>\n",
       "    <tr>\n",
       "      <th>2024-01-08</th>\n",
       "      <td>184.452560</td>\n",
       "    </tr>\n",
       "    <tr>\n",
       "      <th>...</th>\n",
       "      <td>...</td>\n",
       "    </tr>\n",
       "    <tr>\n",
       "      <th>2024-12-24</th>\n",
       "      <td>257.916443</td>\n",
       "    </tr>\n",
       "    <tr>\n",
       "      <th>2024-12-26</th>\n",
       "      <td>258.735504</td>\n",
       "    </tr>\n",
       "    <tr>\n",
       "      <th>2024-12-27</th>\n",
       "      <td>255.309296</td>\n",
       "    </tr>\n",
       "    <tr>\n",
       "      <th>2024-12-30</th>\n",
       "      <td>251.923019</td>\n",
       "    </tr>\n",
       "    <tr>\n",
       "      <th>2024-12-31</th>\n",
       "      <td>250.144974</td>\n",
       "    </tr>\n",
       "  </tbody>\n",
       "</table>\n",
       "<p>252 rows × 1 columns</p>\n",
       "</div>"
      ],
      "text/plain": [
       "Price            Close\n",
       "Ticker            AAPL\n",
       "Date                  \n",
       "2024-01-02  184.532074\n",
       "2024-01-03  183.150375\n",
       "2024-01-04  180.824356\n",
       "2024-01-05  180.098694\n",
       "2024-01-08  184.452560\n",
       "...                ...\n",
       "2024-12-24  257.916443\n",
       "2024-12-26  258.735504\n",
       "2024-12-27  255.309296\n",
       "2024-12-30  251.923019\n",
       "2024-12-31  250.144974\n",
       "\n",
       "[252 rows x 1 columns]"
      ]
     },
     "execution_count": 4,
     "metadata": {},
     "output_type": "execute_result"
    }
   ],
   "source": [
    "#selecting the 'Close' column for prediction\n",
    "data = data[['Close']]\n",
    "data"
   ]
  },
  {
   "cell_type": "markdown",
   "id": "a68a870d",
   "metadata": {},
   "source": [
    "## 2. Get Ticker Information"
   ]
  },
  {
   "cell_type": "code",
   "execution_count": 5,
   "id": "dae0e6f6",
   "metadata": {},
   "outputs": [],
   "source": [
    "# df=yf.Ticker(ticker)\n",
    "# df.dividends\n",
    "# df.income_stmt\n",
    "# df.balancesheet\n",
    "# df.history(period='1mo')"
   ]
  },
  {
   "cell_type": "markdown",
   "id": "3b540187",
   "metadata": {},
   "source": [
    "# Data preprocessing"
   ]
  },
  {
   "cell_type": "markdown",
   "id": "66004a10",
   "metadata": {},
   "source": [
    "## check if any missing values"
   ]
  },
  {
   "cell_type": "code",
   "execution_count": 6,
   "id": "3c838458",
   "metadata": {},
   "outputs": [
    {
     "data": {
      "text/plain": [
       "Price  Ticker\n",
       "Close  AAPL      0\n",
       "dtype: int64"
      ]
     },
     "execution_count": 6,
     "metadata": {},
     "output_type": "execute_result"
    }
   ],
   "source": [
    "\n",
    "nulldata=data.isna().sum()\n",
    "nulldata"
   ]
  },
  {
   "cell_type": "markdown",
   "id": "ef4fed86",
   "metadata": {},
   "source": [
    "## remove the rows having null values"
   ]
  },
  {
   "cell_type": "code",
   "execution_count": 7,
   "id": "7e4dcba7",
   "metadata": {},
   "outputs": [
    {
     "data": {
      "text/html": [
       "<div>\n",
       "<style scoped>\n",
       "    .dataframe tbody tr th:only-of-type {\n",
       "        vertical-align: middle;\n",
       "    }\n",
       "\n",
       "    .dataframe tbody tr th {\n",
       "        vertical-align: top;\n",
       "    }\n",
       "\n",
       "    .dataframe thead tr th {\n",
       "        text-align: left;\n",
       "    }\n",
       "\n",
       "    .dataframe thead tr:last-of-type th {\n",
       "        text-align: right;\n",
       "    }\n",
       "</style>\n",
       "<table border=\"1\" class=\"dataframe\">\n",
       "  <thead>\n",
       "    <tr>\n",
       "      <th>Price</th>\n",
       "      <th>Close</th>\n",
       "    </tr>\n",
       "    <tr>\n",
       "      <th>Ticker</th>\n",
       "      <th>AAPL</th>\n",
       "    </tr>\n",
       "    <tr>\n",
       "      <th>Date</th>\n",
       "      <th></th>\n",
       "    </tr>\n",
       "  </thead>\n",
       "  <tbody>\n",
       "    <tr>\n",
       "      <th>2024-01-02</th>\n",
       "      <td>184.532074</td>\n",
       "    </tr>\n",
       "    <tr>\n",
       "      <th>2024-01-03</th>\n",
       "      <td>183.150375</td>\n",
       "    </tr>\n",
       "    <tr>\n",
       "      <th>2024-01-04</th>\n",
       "      <td>180.824356</td>\n",
       "    </tr>\n",
       "    <tr>\n",
       "      <th>2024-01-05</th>\n",
       "      <td>180.098694</td>\n",
       "    </tr>\n",
       "    <tr>\n",
       "      <th>2024-01-08</th>\n",
       "      <td>184.452560</td>\n",
       "    </tr>\n",
       "  </tbody>\n",
       "</table>\n",
       "</div>"
      ],
      "text/plain": [
       "Price            Close\n",
       "Ticker            AAPL\n",
       "Date                  \n",
       "2024-01-02  184.532074\n",
       "2024-01-03  183.150375\n",
       "2024-01-04  180.824356\n",
       "2024-01-05  180.098694\n",
       "2024-01-08  184.452560"
      ]
     },
     "execution_count": 7,
     "metadata": {},
     "output_type": "execute_result"
    }
   ],
   "source": [
    "#drop the rows having null values\n",
    "data.dropna(inplace=True)\n",
    "data.head()"
   ]
  },
  {
   "cell_type": "markdown",
   "id": "370deb85",
   "metadata": {},
   "source": [
    "## Applying MinMaxScaler to the data\n"
   ]
  },
  {
   "cell_type": "code",
   "execution_count": 8,
   "id": "dd8775c0",
   "metadata": {},
   "outputs": [],
   "source": [
    "minmax=MinMaxScaler()\n",
    "scaled_data=minmax.fit_transform(data['Close'].values.reshape(-1,1))\n",
    "# scaled_data = scaler.fit_transform(data[['Close']]) #can also be used\n"
   ]
  },
  {
   "cell_type": "markdown",
   "id": "56e02752",
   "metadata": {},
   "source": [
    "# Create sequences"
   ]
  },
  {
   "cell_type": "code",
   "execution_count": 9,
   "id": "4e508838",
   "metadata": {},
   "outputs": [
    {
     "data": {
      "text/plain": [
       "'\\nThis is best approach to split the data into train and test sets to avoid data leakage. Generally done before scaling the data.\\n\\ntrain_size = int(len(scaled_data) * 0.80)\\ntrain_data = scaled_data[:train_size]\\ntest_data = scaled_data[train_size:]\\ntrain_data\\n\\n#defining sequence\\ndef create_sequence(data, time_step=60):\\n    X, y = [], []\\n    for i in range(time_step, len(data)):\\n        X.append(data[i-time_step:i, 0])\\n        y.append(data[i, 0])\\n    return np.array(X), np.array(y)\\n\\nX_train, y_train = create_dataset(train_data) #X_train.shape=2d,y_train.shape=1d\\nX_test, y_test = create_dataset(test_data)\\n\\n\\n# resahpping\\nX_train = X_train.reshape(X_train.shape[0], X_train.shape[1], 1) #X_train.shape  \\nX_test = X_test.reshape(X_test.shape[0], X_test.shape[1], 1) # X_test.shape= 3d (requires input for lstm)\\n\\n\\n'"
      ]
     },
     "execution_count": 9,
     "metadata": {},
     "output_type": "execute_result"
    }
   ],
   "source": [
    "def create_sequence(data, time_step):\n",
    "    X, Y = [], []\n",
    "    for i in range(len(data) - time_step):\n",
    "        X.append(data[i:i + time_step])  # Sequence of time steps\n",
    "        Y.append(data[i + time_step])    # Target value (next step after the sequence)\n",
    "    return np.array(X), np.array(Y)\n",
    "#consider time_step to be 60 \n",
    "time_step=60\n",
    "X,Y=create_sequence(scaled_data,time_step)\n",
    "# X=X.reshape(X.shape[0],X.shape[1],1)   #not required as X is already 3D(samples, time steps, features)\n",
    "\n",
    "'''\n",
    "This is best approach to split the data into train and test sets to avoid data leakage. Generally done before scaling the data.\n",
    "\n",
    "train_size = int(len(scaled_data) * 0.80)\n",
    "train_data = scaled_data[:train_size]\n",
    "test_data = scaled_data[train_size:]\n",
    "train_data\n",
    "\n",
    "#defining sequence\n",
    "def create_sequence(data, time_step=60):\n",
    "    X, y = [], []\n",
    "    for i in range(time_step, len(data)):\n",
    "        X.append(data[i-time_step:i, 0])\n",
    "        y.append(data[i, 0])\n",
    "    return np.array(X), np.array(y)\n",
    "\n",
    "X_train, y_train = create_dataset(train_data) #X_train.shape=2d,y_train.shape=1d\n",
    "X_test, y_test = create_dataset(test_data)\n",
    "\n",
    "\n",
    "# resahpping\n",
    "X_train = X_train.reshape(X_train.shape[0], X_train.shape[1], 1) #X_train.shape  \n",
    "X_test = X_test.reshape(X_test.shape[0], X_test.shape[1], 1) # X_test.shape= 3d (requires input for lstm)\n",
    "\n",
    "\n",
    "'''\n",
    "    \n",
    "    "
   ]
  },
  {
   "cell_type": "code",
   "execution_count": 10,
   "id": "40c3a811",
   "metadata": {},
   "outputs": [
    {
     "data": {
      "text/plain": [
       "(192, 60, 1)"
      ]
     },
     "execution_count": 10,
     "metadata": {},
     "output_type": "execute_result"
    }
   ],
   "source": [
    "X.shape\n"
   ]
  },
  {
   "cell_type": "code",
   "execution_count": 11,
   "id": "af1d20d1",
   "metadata": {},
   "outputs": [
    {
     "data": {
      "text/plain": [
       "(192, 1)"
      ]
     },
     "execution_count": 11,
     "metadata": {},
     "output_type": "execute_result"
    }
   ],
   "source": [
    "Y.shape\n"
   ]
  },
  {
   "cell_type": "markdown",
   "id": "b650719f",
   "metadata": {},
   "source": [
    "# Train test split"
   ]
  },
  {
   "cell_type": "code",
   "execution_count": 12,
   "id": "7c3f5ad9",
   "metadata": {},
   "outputs": [
    {
     "data": {
      "text/plain": [
       "'Alternatively, you can use the following code to split the data into training and testing sets without shuffling:\\nsplit = int(0.8 * len(X))\\nX_train, X_test = X[:split], X[split:]\\ny_train, y_test = y[:split], y[split:]\\n\\nThis will ensure that the training and testing sets are sequential and not shuffled.'"
      ]
     },
     "execution_count": 12,
     "metadata": {},
     "output_type": "execute_result"
    }
   ],
   "source": [
    "X_train,X_test,Y_train,Y_test=train_test_split(X,Y,test_size=0.2,random_state=42,shuffle=False)\n",
    "'''Alternatively, you can use the following code to split the data into training and testing sets without shuffling:\n",
    "split = int(0.8 * len(X))\n",
    "X_train, X_test = X[:split], X[split:]\n",
    "y_train, y_test = y[:split], y[split:]\n",
    "\n",
    "This will ensure that the training and testing sets are sequential and not shuffled.'''\n"
   ]
  },
  {
   "cell_type": "markdown",
   "id": "3eaa624a",
   "metadata": {},
   "source": [
    "# Build LSTM for Prediction"
   ]
  },
  {
   "cell_type": "code",
   "execution_count": 13,
   "id": "3449d5dd",
   "metadata": {},
   "outputs": [
    {
     "name": "stderr",
     "output_type": "stream",
     "text": [
      "c:\\Users\\Asus\\AppData\\Local\\Programs\\Python\\Python312\\Lib\\site-packages\\keras\\src\\layers\\rnn\\rnn.py:204: UserWarning: Do not pass an `input_shape`/`input_dim` argument to a layer. When using Sequential models, prefer using an `Input(shape)` object as the first layer in the model instead.\n",
      "  super().__init__(**kwargs)\n"
     ]
    },
    {
     "data": {
      "text/plain": [
       "\"\\nStep | Layer | Input Shape | Output Shape | What It Does\\n1 | Input | (batch_size, seq_length, 1) | (batch_size, seq_length, 1) | Input sequence data (ex: 60 days of stock prices)\\n2 | LSTM(64, return_sequences=True) | (batch_size, seq_length, 1) | (batch_size, seq_length, 64) | Each timestep is encoded into a 64-feature vector (keeps sequence)\\n3 | Dropout(0.2) | (batch_size, seq_length, 64) | (batch_size, seq_length, 64) | Randomly drops 20% of outputs per timestep (regularization)\\n4 | LSTM(64, return_sequences=False) | (batch_size, seq_length, 64) | (batch_size, 64) | Collapses sequence into one final 64-feature vector\\n5 | Dropout(0.2) | (batch_size, 64) | (batch_size, 64) | Randomly drops 20% of outputs from the 64 features\\n6 | Dense(32, activation='relu') | (batch_size, 64) | (batch_size, 32) | Fully connects 64 features into 32 features with ReLU activation\\n7 | Dense(1) | (batch_size, 32) | (batch_size, 1) | Fully connects 32 features into one final predicted value (price)\\n\""
      ]
     },
     "execution_count": 13,
     "metadata": {},
     "output_type": "execute_result"
    }
   ],
   "source": [
    "model = Sequential([\n",
    "    LSTM(50, return_sequences=True, input_shape=(X.shape[1], 1)),\n",
    "    LSTM(50, return_sequences=False),\n",
    "    Dense(1)\n",
    "])\n",
    "'''\n",
    "Step | Layer | Input Shape | Output Shape | What It Does\n",
    "1 | Input | (batch_size, seq_length, 1) | (batch_size, seq_length, 1) | Input sequence data (ex: 60 days of stock prices)\n",
    "2 | LSTM(64, return_sequences=True) | (batch_size, seq_length, 1) | (batch_size, seq_length, 64) | Each timestep is encoded into a 64-feature vector (keeps sequence)\n",
    "3 | Dropout(0.2) | (batch_size, seq_length, 64) | (batch_size, seq_length, 64) | Randomly drops 20% of outputs per timestep (regularization)\n",
    "4 | LSTM(64, return_sequences=False) | (batch_size, seq_length, 64) | (batch_size, 64) | Collapses sequence into one final 64-feature vector\n",
    "5 | Dropout(0.2) | (batch_size, 64) | (batch_size, 64) | Randomly drops 20% of outputs from the 64 features\n",
    "6 | Dense(32, activation='relu') | (batch_size, 64) | (batch_size, 32) | Fully connects 64 features into 32 features with ReLU activation\n",
    "7 | Dense(1) | (batch_size, 32) | (batch_size, 1) | Fully connects 32 features into one final predicted value (price)\n",
    "'''"
   ]
  },
  {
   "cell_type": "markdown",
   "id": "814ff620",
   "metadata": {},
   "source": [
    "## Compile the model"
   ]
  },
  {
   "cell_type": "code",
   "execution_count": 14,
   "id": "f19738ed",
   "metadata": {},
   "outputs": [],
   "source": [
    "model.compile(\n",
    "    optimizer='adam',\n",
    "    loss='mean_squared_error' ,\n",
    "    metrics=['mean_absolute_error']\n",
    ")"
   ]
  },
  {
   "cell_type": "markdown",
   "id": "b25fbf3f",
   "metadata": {},
   "source": [
    "## define callbacks to control training processes automatically"
   ]
  },
  {
   "cell_type": "code",
   "execution_count": 15,
   "id": "5af092a4",
   "metadata": {},
   "outputs": [],
   "source": [
    "# 4. Callbacks\n",
    "early_stop = EarlyStopping(monitor='val_loss', patience=10, restore_best_weights=True)\n",
    "reduce_lr = ReduceLROnPlateau(monitor='val_loss', patience=5, factor=0.5, verbose=1)"
   ]
  },
  {
   "cell_type": "markdown",
   "id": "a4f3ad0c",
   "metadata": {},
   "source": [
    "## training the model"
   ]
  },
  {
   "cell_type": "code",
   "execution_count": 16,
   "id": "16675488",
   "metadata": {},
   "outputs": [
    {
     "name": "stdout",
     "output_type": "stream",
     "text": [
      "Epoch 1/50\n",
      "5/5 - 6s - 1s/step - loss: 0.1903 - mean_absolute_error: 0.3796 - val_loss: 0.1721 - val_mean_absolute_error: 0.4044 - learning_rate: 1.0000e-03\n",
      "Epoch 2/50\n",
      "5/5 - 0s - 75ms/step - loss: 0.0289 - mean_absolute_error: 0.1360 - val_loss: 0.0175 - val_mean_absolute_error: 0.1134 - learning_rate: 1.0000e-03\n",
      "Epoch 3/50\n",
      "5/5 - 0s - 74ms/step - loss: 0.0238 - mean_absolute_error: 0.1335 - val_loss: 0.0046 - val_mean_absolute_error: 0.0581 - learning_rate: 1.0000e-03\n",
      "Epoch 4/50\n",
      "5/5 - 0s - 75ms/step - loss: 0.0064 - mean_absolute_error: 0.0652 - val_loss: 0.0301 - val_mean_absolute_error: 0.1582 - learning_rate: 1.0000e-03\n",
      "Epoch 5/50\n",
      "5/5 - 0s - 75ms/step - loss: 0.0111 - mean_absolute_error: 0.0894 - val_loss: 0.0333 - val_mean_absolute_error: 0.1683 - learning_rate: 1.0000e-03\n",
      "Epoch 6/50\n",
      "5/5 - 0s - 76ms/step - loss: 0.0078 - mean_absolute_error: 0.0724 - val_loss: 0.0103 - val_mean_absolute_error: 0.0873 - learning_rate: 1.0000e-03\n",
      "Epoch 7/50\n",
      "5/5 - 0s - 76ms/step - loss: 0.0058 - mean_absolute_error: 0.0610 - val_loss: 0.0041 - val_mean_absolute_error: 0.0572 - learning_rate: 1.0000e-03\n",
      "Epoch 8/50\n",
      "5/5 - 0s - 77ms/step - loss: 0.0064 - mean_absolute_error: 0.0642 - val_loss: 0.0062 - val_mean_absolute_error: 0.0683 - learning_rate: 1.0000e-03\n",
      "Epoch 9/50\n",
      "5/5 - 0s - 75ms/step - loss: 0.0050 - mean_absolute_error: 0.0596 - val_loss: 0.0128 - val_mean_absolute_error: 0.0985 - learning_rate: 1.0000e-03\n",
      "Epoch 10/50\n",
      "5/5 - 0s - 77ms/step - loss: 0.0054 - mean_absolute_error: 0.0605 - val_loss: 0.0115 - val_mean_absolute_error: 0.0933 - learning_rate: 1.0000e-03\n",
      "Epoch 11/50\n",
      "5/5 - 0s - 75ms/step - loss: 0.0047 - mean_absolute_error: 0.0570 - val_loss: 0.0061 - val_mean_absolute_error: 0.0677 - learning_rate: 1.0000e-03\n",
      "Epoch 12/50\n",
      "\n",
      "Epoch 12: ReduceLROnPlateau reducing learning rate to 0.0005000000237487257.\n",
      "5/5 - 0s - 76ms/step - loss: 0.0047 - mean_absolute_error: 0.0566 - val_loss: 0.0052 - val_mean_absolute_error: 0.0624 - learning_rate: 1.0000e-03\n",
      "Epoch 13/50\n",
      "5/5 - 0s - 74ms/step - loss: 0.0046 - mean_absolute_error: 0.0562 - val_loss: 0.0064 - val_mean_absolute_error: 0.0696 - learning_rate: 5.0000e-04\n",
      "Epoch 14/50\n",
      "5/5 - 0s - 73ms/step - loss: 0.0044 - mean_absolute_error: 0.0551 - val_loss: 0.0073 - val_mean_absolute_error: 0.0743 - learning_rate: 5.0000e-04\n",
      "Epoch 15/50\n",
      "5/5 - 0s - 75ms/step - loss: 0.0044 - mean_absolute_error: 0.0554 - val_loss: 0.0071 - val_mean_absolute_error: 0.0734 - learning_rate: 5.0000e-04\n",
      "Epoch 16/50\n",
      "5/5 - 0s - 75ms/step - loss: 0.0044 - mean_absolute_error: 0.0551 - val_loss: 0.0070 - val_mean_absolute_error: 0.0728 - learning_rate: 5.0000e-04\n",
      "Epoch 17/50\n",
      "\n",
      "Epoch 17: ReduceLROnPlateau reducing learning rate to 0.0002500000118743628.\n",
      "5/5 - 0s - 75ms/step - loss: 0.0044 - mean_absolute_error: 0.0548 - val_loss: 0.0062 - val_mean_absolute_error: 0.0687 - learning_rate: 5.0000e-04\n"
     ]
    }
   ],
   "source": [
    "hist=model.fit(X_train,\n",
    "          Y_train,\n",
    "          epochs=50,\n",
    "          validation_data=(X_test,Y_test),\n",
    "          batch_size=32,\n",
    "          callbacks=[early_stop, reduce_lr],\n",
    "          verbose=2)"
   ]
  },
  {
   "cell_type": "markdown",
   "id": "5d79b262",
   "metadata": {},
   "source": [
    "## Plotting training and validation loss\n"
   ]
  },
  {
   "cell_type": "code",
   "execution_count": 17,
   "id": "5c6a380d",
   "metadata": {},
   "outputs": [
    {
     "data": {
      "image/png": "[encoded data removed]",
      "text/plain": [
       "<Figure size 1000x600 with 1 Axes>"
      ]
     },
     "metadata": {},
     "output_type": "display_data"
    }
   ],
   "source": [
    "train_loss = hist.history['loss']\n",
    "val_loss   = hist.history['val_loss']\n",
    "\n",
    "plt.figure(figsize=(10,6))\n",
    "plt.plot(train_loss, label='Training Loss')\n",
    "plt.plot(val_loss,   label='Validation Loss')\n",
    "plt.title('Training vs. Validation Loss')\n",
    "plt.xlabel('Epoch')\n",
    "plt.ylabel('Loss')\n",
    "plt.legend()\n",
    "plt.grid(True)\n",
    "plt.show()"
   ]
  },
  {
   "cell_type": "code",
   "execution_count": 18,
   "id": "b9ac4bdb",
   "metadata": {},
   "outputs": [
    {
     "name": "stdout",
     "output_type": "stream",
     "text": [
      "\u001b[1m2/2\u001b[0m \u001b[32m━━━━━━━━━━━━━━━━━━━━\u001b[0m\u001b[37m\u001b[0m \u001b[1m0s\u001b[0m 16ms/step - loss: 0.0041 - mean_absolute_error: 0.0571\n"
     ]
    },
    {
     "data": {
      "text/plain": [
       "[0.004136774688959122, 0.05722048506140709]"
      ]
     },
     "execution_count": 18,
     "metadata": {},
     "output_type": "execute_result"
    }
   ],
   "source": [
    "model.evaluate(X_test,Y_test)"
   ]
  },
  {
   "cell_type": "markdown",
   "id": "17117972",
   "metadata": {},
   "source": [
    "## predictions on test data"
   ]
  },
  {
   "cell_type": "code",
   "execution_count": 19,
   "id": "c40780d3",
   "metadata": {},
   "outputs": [
    {
     "name": "stdout",
     "output_type": "stream",
     "text": [
      "\u001b[1m2/2\u001b[0m \u001b[32m━━━━━━━━━━━━━━━━━━━━\u001b[0m\u001b[37m\u001b[0m \u001b[1m1s\u001b[0m 484ms/step\n"
     ]
    }
   ],
   "source": [
    "Y_pred=model.predict(X_test)\n"
   ]
  },
  {
   "cell_type": "markdown",
   "id": "e2024472",
   "metadata": {},
   "source": [
    "## Inverse transform the predictions and actual data into original scale"
   ]
  },
  {
   "cell_type": "code",
   "execution_count": 20,
   "id": "c94b6931",
   "metadata": {},
   "outputs": [],
   "source": [
    "# Preprocess the data\n",
    "actual_data=minmax.inverse_transform(Y_test)\n",
    "predicted_data=minmax.inverse_transform(Y_pred)#not reshaping the data as it is already in 2D array"
   ]
  },
  {
   "cell_type": "code",
   "execution_count": 21,
   "id": "895104f0",
   "metadata": {},
   "outputs": [
    {
     "data": {
      "text/plain": [
       "array([[234.67369],\n",
       "       [233.97581],\n",
       "       [233.23431],\n",
       "       [232.65567],\n",
       "       [232.2051 ]], dtype=float32)"
      ]
     },
     "execution_count": 21,
     "metadata": {},
     "output_type": "execute_result"
    }
   ],
   "source": [
    "predicted_data[:5]\n"
   ]
  },
  {
   "cell_type": "markdown",
   "id": "e68bf5f2",
   "metadata": {},
   "source": [
    "# Evaluate the model"
   ]
  },
  {
   "cell_type": "code",
   "execution_count": 22,
   "id": "4b8c1215",
   "metadata": {},
   "outputs": [
    {
     "name": "stdout",
     "output_type": "stream",
     "text": [
      "\u001b[1m2/2\u001b[0m \u001b[32m━━━━━━━━━━━━━━━━━━━━\u001b[0m\u001b[37m\u001b[0m \u001b[1m0s\u001b[0m 19ms/step - loss: 0.0041 - mean_absolute_error: 0.0571\n"
     ]
    },
    {
     "data": {
      "text/plain": [
       "[0.004136774688959122, 0.05722048506140709]"
      ]
     },
     "execution_count": 22,
     "metadata": {},
     "output_type": "execute_result"
    }
   ],
   "source": [
    "model.evaluate(X_test,Y_test)"
   ]
  },
  {
   "cell_type": "markdown",
   "id": "12def2a7",
   "metadata": {},
   "source": [
    "## calculating meansquared error,r2score\n"
   ]
  },
  {
   "cell_type": "code",
   "execution_count": 23,
   "id": "4cec8ce2",
   "metadata": {},
   "outputs": [
    {
     "name": "stdout",
     "output_type": "stream",
     "text": [
      "R2 Score: 0.7199\n",
      "Mean Squared Error: 36.9510\n"
     ]
    }
   ],
   "source": [
    "r2score=r2_score(actual_data,predicted_data)\n",
    "print(f\"R2 Score: {r2score:.4f}\")\n",
    "mean_squared_error_value=mean_squared_error(actual_data,predicted_data)\n",
    "print(f\"Mean Squared Error: {mean_squared_error_value:.4f}\")\n"
   ]
  },
  {
   "cell_type": "markdown",
   "id": "be9f6958",
   "metadata": {},
   "source": [
    "# Visualize the results"
   ]
  },
  {
   "cell_type": "code",
   "execution_count": 24,
   "id": "f1cace78",
   "metadata": {},
   "outputs": [
    {
     "data": {
      "image/png": "[encoded data removed]",
      "text/plain": [
       "<Figure size 1400x500 with 1 Axes>"
      ]
     },
     "metadata": {},
     "output_type": "display_data"
    }
   ],
   "source": [
    "plt.figure(figsize=(14,5))\n",
    "plt.plot(actual_data, label='Actual Price', color='blue')\n",
    "plt.plot(predicted_data, label='Predicted Price', color='red')\n",
    "plt.title(f'{ticker} Stock Price Prediction')\n",
    "plt.xlabel('Time')\n",
    "plt.ylabel('Price')\n",
    "plt.legend()\n",
    "plt.grid()\n",
    "plt.show()"
   ]
  },
  {
   "cell_type": "markdown",
   "id": "bcd2b476",
   "metadata": {},
   "source": [
    "# 7. Predict Unseen Future (Next N Days)"
   ]
  },
  {
   "cell_type": "code",
   "execution_count": null,
   "id": "55c27c6b",
   "metadata": {},
   "outputs": [
    {
     "data": {
      "image/png": "[encoded data removed]",
      "text/plain": [
       "<Figure size 1200x600 with 1 Axes>"
      ]
     },
     "metadata": {},
     "output_type": "display_data"
    }
   ],
   "source": [
    "def predict_future(model, last_sequence, n_days):\n",
    "    predictions = []\n",
    "    curr_seq = last_sequence.copy()\n",
    "    for _ in range(n_days):\n",
    "        pred = model.predict(curr_seq[np.newaxis, :, :], verbose=0)[0, 0] #since model expect 3d (sample,timestep,features) so converting curr_seq(2d) into 3d by adding a new dimension using np.newaxis and takes all rows and all columns\n",
    "        predictions.append(pred)#here pred is scaled value since we used [0,0] while prediction\n",
    "        curr_seq = np.append(curr_seq[1:], [[pred]], axis=0)  # slide window, np.append() is a NumPy function used to append values to the end of an array.Here [[pred]] converts scalar value into 2D array which is fit for np.append() function.\n",
    "    return np.array(predictions)\n",
    "\n",
    "n_future_days = 30\n",
    "last_seq = scaled_data[-time_step:]\n",
    "\n",
    "future_preds_scaled = predict_future(model, last_seq, n_future_days)\n",
    "\n",
    "# Now correctly reshape for inverse_transform\n",
    "future_preds = minmax.inverse_transform(future_preds_scaled.reshape(-1, 1))\n",
    "\n",
    "# Plot\n",
    "plt.figure(figsize=(12,6))\n",
    "plt.plot(range(n_future_days), future_preds, marker='o',color='red' ,label='Future Predictions')\n",
    "plt.title(f'{ticker} Future {n_future_days} Days Prediction')\n",
    "plt.xlabel('Days Ahead')\n",
    "plt.ylabel('Price')\n",
    "plt.legend()\n",
    "plt.show()"
   ]
  },
  {
   "cell_type": "code",
   "execution_count": null,
   "id": "ea5ac79a",
   "metadata": {},
   "outputs": [],
   "source": []
  }
 ],
 "metadata": {
  "kernelspec": {
   "display_name": "Python 3",
   "language": "python",
   "name": "python3"
  },
  "language_info": {
   "codemirror_mode": {
    "name": "ipython",
    "version": 3
   },
   "file_extension": ".py",
   "mimetype": "text/x-python",
   "name": "python",
   "nbconvert_exporter": "python",
   "pygments_lexer": "ipython3",
   "version": "3.12.6"
  }
 },
 "nbformat": 4,
 "nbformat_minor": 5
}
