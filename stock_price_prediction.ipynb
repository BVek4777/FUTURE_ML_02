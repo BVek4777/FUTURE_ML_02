{
 "cells": [
  {
   "cell_type": "markdown",
   "id": "e8ca9413",
   "metadata": {},
   "source": [
    "# importing all the necessary libraries"
   ]
  },
  {
   "cell_type": "code",
   "execution_count": 223,
   "id": "401e8a9c",
   "metadata": {},
   "outputs": [],
   "source": [
    "import pandas as pd\n",
    "import numpy as np\n",
    "import matplotlib.pyplot as plt\n",
    "import tensorflow as tf\n",
    "from tensorflow import keras\n",
    "from tensorflow.keras.layers import LSTM, Dense\n",
    "from tensorflow.keras.models import Sequential\n",
    "from sklearn.preprocessing import MinMaxScaler\n",
    "from sklearn.model_selection import train_test_split\n",
    "from sklearn.metrics import mean_squared_error,r2_score\n",
    "import yfinance as yf\n"
   ]
  },
  {
   "cell_type": "markdown",
   "id": "899aa68c",
   "metadata": {},
   "source": [
    "# Load data from Yahoo Finance"
   ]
  },
  {
   "cell_type": "code",
   "execution_count": 181,
   "id": "25727def",
   "metadata": {},
   "outputs": [
    {
     "name": "stderr",
     "output_type": "stream",
     "text": [
      "[*********************100%***********************]  1 of 1 completed\n"
     ]
    }
   ],
   "source": [
    "data=yf.download(\"AAPL\", start=\"2024-01-01\", end=\"2025-01-01\")"
   ]
  },
  {
   "cell_type": "code",
   "execution_count": 207,
   "id": "ccdb060c",
   "metadata": {},
   "outputs": [
    {
     "data": {
      "text/html": [
       "<div>\n",
       "<style scoped>\n",
       "    .dataframe tbody tr th:only-of-type {\n",
       "        vertical-align: middle;\n",
       "    }\n",
       "\n",
       "    .dataframe tbody tr th {\n",
       "        vertical-align: top;\n",
       "    }\n",
       "\n",
       "    .dataframe thead tr th {\n",
       "        text-align: left;\n",
       "    }\n",
       "\n",
       "    .dataframe thead tr:last-of-type th {\n",
       "        text-align: right;\n",
       "    }\n",
       "</style>\n",
       "<table border=\"1\" class=\"dataframe\">\n",
       "  <thead>\n",
       "    <tr>\n",
       "      <th>Price</th>\n",
       "      <th>Close</th>\n",
       "    </tr>\n",
       "    <tr>\n",
       "      <th>Ticker</th>\n",
       "      <th>AAPL</th>\n",
       "    </tr>\n",
       "    <tr>\n",
       "      <th>Date</th>\n",
       "      <th></th>\n",
       "    </tr>\n",
       "  </thead>\n",
       "  <tbody>\n",
       "    <tr>\n",
       "      <th>2024-12-24</th>\n",
       "      <td>0.991334</td>\n",
       "    </tr>\n",
       "    <tr>\n",
       "      <th>2024-12-26</th>\n",
       "      <td>1.000000</td>\n",
       "    </tr>\n",
       "    <tr>\n",
       "      <th>2024-12-27</th>\n",
       "      <td>0.963748</td>\n",
       "    </tr>\n",
       "    <tr>\n",
       "      <th>2024-12-30</th>\n",
       "      <td>0.927919</td>\n",
       "    </tr>\n",
       "    <tr>\n",
       "      <th>2024-12-31</th>\n",
       "      <td>0.909105</td>\n",
       "    </tr>\n",
       "  </tbody>\n",
       "</table>\n",
       "</div>"
      ],
      "text/plain": [
       "Price          Close\n",
       "Ticker          AAPL\n",
       "Date                \n",
       "2024-12-24  0.991334\n",
       "2024-12-26  1.000000\n",
       "2024-12-27  0.963748\n",
       "2024-12-30  0.927919\n",
       "2024-12-31  0.909105"
      ]
     },
     "execution_count": 207,
     "metadata": {},
     "output_type": "execute_result"
    }
   ],
   "source": [
    "data.tail()"
   ]
  },
  {
   "cell_type": "code",
   "execution_count": 183,
   "id": "188467d1",
   "metadata": {},
   "outputs": [
    {
     "data": {
      "text/html": [
       "<div>\n",
       "<style scoped>\n",
       "    .dataframe tbody tr th:only-of-type {\n",
       "        vertical-align: middle;\n",
       "    }\n",
       "\n",
       "    .dataframe tbody tr th {\n",
       "        vertical-align: top;\n",
       "    }\n",
       "\n",
       "    .dataframe thead tr th {\n",
       "        text-align: left;\n",
       "    }\n",
       "\n",
       "    .dataframe thead tr:last-of-type th {\n",
       "        text-align: right;\n",
       "    }\n",
       "</style>\n",
       "<table border=\"1\" class=\"dataframe\">\n",
       "  <thead>\n",
       "    <tr>\n",
       "      <th>Price</th>\n",
       "      <th>Close</th>\n",
       "    </tr>\n",
       "    <tr>\n",
       "      <th>Ticker</th>\n",
       "      <th>AAPL</th>\n",
       "    </tr>\n",
       "    <tr>\n",
       "      <th>Date</th>\n",
       "      <th></th>\n",
       "    </tr>\n",
       "  </thead>\n",
       "  <tbody>\n",
       "    <tr>\n",
       "      <th>2024-01-02</th>\n",
       "      <td>184.532089</td>\n",
       "    </tr>\n",
       "    <tr>\n",
       "      <th>2024-01-03</th>\n",
       "      <td>183.150391</td>\n",
       "    </tr>\n",
       "    <tr>\n",
       "      <th>2024-01-04</th>\n",
       "      <td>180.824356</td>\n",
       "    </tr>\n",
       "    <tr>\n",
       "      <th>2024-01-05</th>\n",
       "      <td>180.098709</td>\n",
       "    </tr>\n",
       "    <tr>\n",
       "      <th>2024-01-08</th>\n",
       "      <td>184.452545</td>\n",
       "    </tr>\n",
       "    <tr>\n",
       "      <th>...</th>\n",
       "      <td>...</td>\n",
       "    </tr>\n",
       "    <tr>\n",
       "      <th>2024-12-24</th>\n",
       "      <td>257.916443</td>\n",
       "    </tr>\n",
       "    <tr>\n",
       "      <th>2024-12-26</th>\n",
       "      <td>258.735504</td>\n",
       "    </tr>\n",
       "    <tr>\n",
       "      <th>2024-12-27</th>\n",
       "      <td>255.309296</td>\n",
       "    </tr>\n",
       "    <tr>\n",
       "      <th>2024-12-30</th>\n",
       "      <td>251.923019</td>\n",
       "    </tr>\n",
       "    <tr>\n",
       "      <th>2024-12-31</th>\n",
       "      <td>250.144974</td>\n",
       "    </tr>\n",
       "  </tbody>\n",
       "</table>\n",
       "<p>252 rows × 1 columns</p>\n",
       "</div>"
      ],
      "text/plain": [
       "Price            Close\n",
       "Ticker            AAPL\n",
       "Date                  \n",
       "2024-01-02  184.532089\n",
       "2024-01-03  183.150391\n",
       "2024-01-04  180.824356\n",
       "2024-01-05  180.098709\n",
       "2024-01-08  184.452545\n",
       "...                ...\n",
       "2024-12-24  257.916443\n",
       "2024-12-26  258.735504\n",
       "2024-12-27  255.309296\n",
       "2024-12-30  251.923019\n",
       "2024-12-31  250.144974\n",
       "\n",
       "[252 rows x 1 columns]"
      ]
     },
     "execution_count": 183,
     "metadata": {},
     "output_type": "execute_result"
    }
   ],
   "source": [
    "data = data[['Close']]\n",
    "data"
   ]
  },
  {
   "cell_type": "code",
   "execution_count": null,
   "id": "f29145cb",
   "metadata": {},
   "outputs": [],
   "source": []
  },
  {
   "cell_type": "markdown",
   "id": "a68a870d",
   "metadata": {},
   "source": [
    "## 2. Get Ticker Information"
   ]
  },
  {
   "cell_type": "code",
   "execution_count": 184,
   "id": "dae0e6f6",
   "metadata": {},
   "outputs": [],
   "source": [
    "apple=yf.Ticker('AAPL')\n",
    "# data.dividends\n",
    "# data.income_stmt\n",
    "# data.balancesheet\n",
    "# apple.history(period='1mo')"
   ]
  },
  {
   "cell_type": "markdown",
   "id": "3b540187",
   "metadata": {},
   "source": [
    "# Data preprocessing"
   ]
  },
  {
   "cell_type": "markdown",
   "id": "66004a10",
   "metadata": {},
   "source": [
    "## check if any missing values"
   ]
  },
  {
   "cell_type": "code",
   "execution_count": 209,
   "id": "3c838458",
   "metadata": {},
   "outputs": [
    {
     "data": {
      "text/plain": [
       "Price  Ticker\n",
       "Close  AAPL      0\n",
       "dtype: int64"
      ]
     },
     "execution_count": 209,
     "metadata": {},
     "output_type": "execute_result"
    }
   ],
   "source": [
    "\n",
    "nulldata=data.isna().sum()\n",
    "nulldata"
   ]
  },
  {
   "cell_type": "markdown",
   "id": "ef4fed86",
   "metadata": {},
   "source": [
    "## remove the rows having null values"
   ]
  },
  {
   "cell_type": "code",
   "execution_count": 210,
   "id": "7e4dcba7",
   "metadata": {},
   "outputs": [
    {
     "data": {
      "text/html": [
       "<div>\n",
       "<style scoped>\n",
       "    .dataframe tbody tr th:only-of-type {\n",
       "        vertical-align: middle;\n",
       "    }\n",
       "\n",
       "    .dataframe tbody tr th {\n",
       "        vertical-align: top;\n",
       "    }\n",
       "\n",
       "    .dataframe thead tr th {\n",
       "        text-align: left;\n",
       "    }\n",
       "\n",
       "    .dataframe thead tr:last-of-type th {\n",
       "        text-align: right;\n",
       "    }\n",
       "</style>\n",
       "<table border=\"1\" class=\"dataframe\">\n",
       "  <thead>\n",
       "    <tr>\n",
       "      <th>Price</th>\n",
       "      <th>Close</th>\n",
       "    </tr>\n",
       "    <tr>\n",
       "      <th>Ticker</th>\n",
       "      <th>AAPL</th>\n",
       "    </tr>\n",
       "    <tr>\n",
       "      <th>Date</th>\n",
       "      <th></th>\n",
       "    </tr>\n",
       "  </thead>\n",
       "  <tbody>\n",
       "    <tr>\n",
       "      <th>2024-01-02</th>\n",
       "      <td>0.214870</td>\n",
       "    </tr>\n",
       "    <tr>\n",
       "      <th>2024-01-03</th>\n",
       "      <td>0.200250</td>\n",
       "    </tr>\n",
       "    <tr>\n",
       "      <th>2024-01-04</th>\n",
       "      <td>0.175639</td>\n",
       "    </tr>\n",
       "    <tr>\n",
       "      <th>2024-01-05</th>\n",
       "      <td>0.167961</td>\n",
       "    </tr>\n",
       "    <tr>\n",
       "      <th>2024-01-08</th>\n",
       "      <td>0.214028</td>\n",
       "    </tr>\n",
       "  </tbody>\n",
       "</table>\n",
       "</div>"
      ],
      "text/plain": [
       "Price          Close\n",
       "Ticker          AAPL\n",
       "Date                \n",
       "2024-01-02  0.214870\n",
       "2024-01-03  0.200250\n",
       "2024-01-04  0.175639\n",
       "2024-01-05  0.167961\n",
       "2024-01-08  0.214028"
      ]
     },
     "execution_count": 210,
     "metadata": {},
     "output_type": "execute_result"
    }
   ],
   "source": [
    "#drop the rows having null values\n",
    "data.dropna(inplace=True)\n",
    "data.head()"
   ]
  },
  {
   "cell_type": "markdown",
   "id": "370deb85",
   "metadata": {},
   "source": [
    "## Applying MinMaxScaler to the data\n"
   ]
  },
  {
   "cell_type": "code",
   "execution_count": 211,
   "id": "dd8775c0",
   "metadata": {},
   "outputs": [
    {
     "data": {
      "text/plain": [
       "(252, 1)"
      ]
     },
     "execution_count": 211,
     "metadata": {},
     "output_type": "execute_result"
    }
   ],
   "source": [
    "minmax=MinMaxScaler()\n",
    "data['Close']=minmax.fit_transform(data['Close'].values.reshape(-1,1))\n",
    "data.shape"
   ]
  },
  {
   "cell_type": "markdown",
   "id": "56e02752",
   "metadata": {},
   "source": [
    "# Create sequences"
   ]
  },
  {
   "cell_type": "code",
   "execution_count": 188,
   "id": "0bb0a292",
   "metadata": {},
   "outputs": [
    {
     "data": {
      "text/plain": [
       "252"
      ]
     },
     "execution_count": 188,
     "metadata": {},
     "output_type": "execute_result"
    }
   ],
   "source": [
    "len(data)"
   ]
  },
  {
   "cell_type": "code",
   "execution_count": 189,
   "id": "4e508838",
   "metadata": {},
   "outputs": [],
   "source": [
    "def create_sequence(data, time_step):\n",
    "    X, Y = [], []\n",
    "    for i in range(len(data) - time_step):\n",
    "        X.append(data[i:i + time_step])  # Sequence of time steps\n",
    "        Y.append(data[i + time_step])    # Target value (next step after the sequence)\n",
    "    return np.array(X), np.array(Y)\n",
    "#consider time_step to be 60 \n",
    "time_step=60\n",
    "X,Y=create_sequence(data['Close'].values,time_step)\n",
    "X=X.reshape(X.shape[0],X.shape[1],1)    #reshape the data to 3D array (samples, time steps, features)\n",
    "\n",
    "    \n",
    "    "
   ]
  },
  {
   "cell_type": "code",
   "execution_count": 190,
   "id": "40c3a811",
   "metadata": {},
   "outputs": [
    {
     "data": {
      "text/plain": [
       "(192, 60, 1)"
      ]
     },
     "execution_count": 190,
     "metadata": {},
     "output_type": "execute_result"
    }
   ],
   "source": [
    "X.shape\n"
   ]
  },
  {
   "cell_type": "code",
   "execution_count": 191,
   "id": "af1d20d1",
   "metadata": {},
   "outputs": [
    {
     "data": {
      "text/plain": [
       "(192, 1)"
      ]
     },
     "execution_count": 191,
     "metadata": {},
     "output_type": "execute_result"
    }
   ],
   "source": [
    "Y.shape\n"
   ]
  },
  {
   "cell_type": "markdown",
   "id": "b650719f",
   "metadata": {},
   "source": [
    "# Train test split"
   ]
  },
  {
   "cell_type": "code",
   "execution_count": 192,
   "id": "7c3f5ad9",
   "metadata": {},
   "outputs": [
    {
     "data": {
      "text/plain": [
       "(153, 60, 1)"
      ]
     },
     "execution_count": 192,
     "metadata": {},
     "output_type": "execute_result"
    }
   ],
   "source": [
    "X_train,X_test,Y_train,Y_test=train_test_split(X,Y,test_size=0.2,random_state=42,shuffle=False)\n",
    "X_train.shape"
   ]
  },
  {
   "cell_type": "markdown",
   "id": "3eaa624a",
   "metadata": {},
   "source": [
    "# Build LSTM for Prediction"
   ]
  },
  {
   "cell_type": "code",
   "execution_count": 217,
   "id": "3449d5dd",
   "metadata": {},
   "outputs": [
    {
     "name": "stderr",
     "output_type": "stream",
     "text": [
      "c:\\Users\\Asus\\AppData\\Local\\Programs\\Python\\Python312\\Lib\\site-packages\\keras\\src\\layers\\rnn\\rnn.py:204: UserWarning: Do not pass an `input_shape`/`input_dim` argument to a layer. When using Sequential models, prefer using an `Input(shape)` object as the first layer in the model instead.\n",
      "  super().__init__(**kwargs)\n"
     ]
    }
   ],
   "source": [
    "model = Sequential([\n",
    "    LSTM(50, return_sequences=True, input_shape=(X.shape[1], 1)),\n",
    "    LSTM(50, return_sequences=False),\n",
    "    Dense(1)\n",
    "])\n"
   ]
  },
  {
   "cell_type": "markdown",
   "id": "814ff620",
   "metadata": {},
   "source": [
    "## Compile the model"
   ]
  },
  {
   "cell_type": "code",
   "execution_count": 218,
   "id": "f19738ed",
   "metadata": {},
   "outputs": [],
   "source": [
    "model.compile(\n",
    "    optimizer='adam',\n",
    "    loss='mean_squared_error' ,\n",
    "    metrics=['mean_absolute_error']\n",
    ")"
   ]
  },
  {
   "cell_type": "markdown",
   "id": "b25fbf3f",
   "metadata": {},
   "source": [
    "## training the model"
   ]
  },
  {
   "cell_type": "code",
   "execution_count": 219,
   "id": "16675488",
   "metadata": {},
   "outputs": [
    {
     "name": "stdout",
     "output_type": "stream",
     "text": [
      "Epoch 1/50\n",
      "5/5 - 6s - 1s/step - loss: 0.2072 - mean_absolute_error: 0.3981 - val_loss: 0.1948 - val_mean_absolute_error: 0.4299\n",
      "Epoch 2/50\n",
      "5/5 - 0s - 68ms/step - loss: 0.0301 - mean_absolute_error: 0.1420 - val_loss: 0.0329 - val_mean_absolute_error: 0.1627\n",
      "Epoch 3/50\n",
      "5/5 - 0s - 68ms/step - loss: 0.0301 - mean_absolute_error: 0.1514 - val_loss: 0.0075 - val_mean_absolute_error: 0.0786\n",
      "Epoch 4/50\n",
      "5/5 - 0s - 77ms/step - loss: 0.0097 - mean_absolute_error: 0.0798 - val_loss: 0.0470 - val_mean_absolute_error: 0.2009\n",
      "Epoch 5/50\n",
      "5/5 - 0s - 76ms/step - loss: 0.0149 - mean_absolute_error: 0.1062 - val_loss: 0.0370 - val_mean_absolute_error: 0.1752\n",
      "Epoch 6/50\n",
      "5/5 - 0s - 75ms/step - loss: 0.0089 - mean_absolute_error: 0.0771 - val_loss: 0.0097 - val_mean_absolute_error: 0.0848\n",
      "Epoch 7/50\n",
      "5/5 - 0s - 77ms/step - loss: 0.0081 - mean_absolute_error: 0.0703 - val_loss: 0.0053 - val_mean_absolute_error: 0.0651\n",
      "Epoch 8/50\n",
      "5/5 - 0s - 75ms/step - loss: 0.0075 - mean_absolute_error: 0.0672 - val_loss: 0.0108 - val_mean_absolute_error: 0.0896\n",
      "Epoch 9/50\n",
      "5/5 - 0s - 74ms/step - loss: 0.0061 - mean_absolute_error: 0.0642 - val_loss: 0.0166 - val_mean_absolute_error: 0.1112\n",
      "Epoch 10/50\n",
      "5/5 - 0s - 73ms/step - loss: 0.0064 - mean_absolute_error: 0.0659 - val_loss: 0.0126 - val_mean_absolute_error: 0.0961\n",
      "Epoch 11/50\n",
      "5/5 - 0s - 75ms/step - loss: 0.0056 - mean_absolute_error: 0.0615 - val_loss: 0.0065 - val_mean_absolute_error: 0.0709\n",
      "Epoch 12/50\n",
      "5/5 - 0s - 77ms/step - loss: 0.0056 - mean_absolute_error: 0.0604 - val_loss: 0.0066 - val_mean_absolute_error: 0.0711\n",
      "Epoch 13/50\n",
      "5/5 - 0s - 76ms/step - loss: 0.0052 - mean_absolute_error: 0.0588 - val_loss: 0.0092 - val_mean_absolute_error: 0.0832\n",
      "Epoch 14/50\n",
      "5/5 - 0s - 74ms/step - loss: 0.0052 - mean_absolute_error: 0.0595 - val_loss: 0.0093 - val_mean_absolute_error: 0.0836\n",
      "Epoch 15/50\n",
      "5/5 - 0s - 75ms/step - loss: 0.0051 - mean_absolute_error: 0.0586 - val_loss: 0.0065 - val_mean_absolute_error: 0.0699\n",
      "Epoch 16/50\n",
      "5/5 - 0s - 74ms/step - loss: 0.0051 - mean_absolute_error: 0.0580 - val_loss: 0.0062 - val_mean_absolute_error: 0.0686\n",
      "Epoch 17/50\n",
      "5/5 - 0s - 74ms/step - loss: 0.0050 - mean_absolute_error: 0.0575 - val_loss: 0.0082 - val_mean_absolute_error: 0.0790\n",
      "Epoch 18/50\n",
      "5/5 - 0s - 73ms/step - loss: 0.0050 - mean_absolute_error: 0.0578 - val_loss: 0.0071 - val_mean_absolute_error: 0.0733\n",
      "Epoch 19/50\n",
      "5/5 - 0s - 73ms/step - loss: 0.0049 - mean_absolute_error: 0.0571 - val_loss: 0.0065 - val_mean_absolute_error: 0.0697\n",
      "Epoch 20/50\n",
      "5/5 - 0s - 72ms/step - loss: 0.0049 - mean_absolute_error: 0.0571 - val_loss: 0.0066 - val_mean_absolute_error: 0.0704\n",
      "Epoch 21/50\n",
      "5/5 - 0s - 75ms/step - loss: 0.0048 - mean_absolute_error: 0.0568 - val_loss: 0.0067 - val_mean_absolute_error: 0.0708\n",
      "Epoch 22/50\n",
      "5/5 - 0s - 77ms/step - loss: 0.0048 - mean_absolute_error: 0.0567 - val_loss: 0.0075 - val_mean_absolute_error: 0.0755\n",
      "Epoch 23/50\n",
      "5/5 - 0s - 75ms/step - loss: 0.0047 - mean_absolute_error: 0.0564 - val_loss: 0.0067 - val_mean_absolute_error: 0.0710\n",
      "Epoch 24/50\n",
      "5/5 - 0s - 75ms/step - loss: 0.0047 - mean_absolute_error: 0.0562 - val_loss: 0.0066 - val_mean_absolute_error: 0.0708\n",
      "Epoch 25/50\n",
      "5/5 - 0s - 78ms/step - loss: 0.0047 - mean_absolute_error: 0.0564 - val_loss: 0.0073 - val_mean_absolute_error: 0.0746\n",
      "Epoch 26/50\n",
      "5/5 - 0s - 76ms/step - loss: 0.0046 - mean_absolute_error: 0.0558 - val_loss: 0.0061 - val_mean_absolute_error: 0.0680\n",
      "Epoch 27/50\n",
      "5/5 - 0s - 73ms/step - loss: 0.0046 - mean_absolute_error: 0.0557 - val_loss: 0.0064 - val_mean_absolute_error: 0.0695\n",
      "Epoch 28/50\n",
      "5/5 - 0s - 73ms/step - loss: 0.0046 - mean_absolute_error: 0.0559 - val_loss: 0.0078 - val_mean_absolute_error: 0.0768\n",
      "Epoch 29/50\n",
      "5/5 - 0s - 72ms/step - loss: 0.0046 - mean_absolute_error: 0.0559 - val_loss: 0.0057 - val_mean_absolute_error: 0.0656\n",
      "Epoch 30/50\n",
      "5/5 - 0s - 72ms/step - loss: 0.0045 - mean_absolute_error: 0.0557 - val_loss: 0.0074 - val_mean_absolute_error: 0.0750\n",
      "Epoch 31/50\n",
      "5/5 - 0s - 72ms/step - loss: 0.0044 - mean_absolute_error: 0.0548 - val_loss: 0.0065 - val_mean_absolute_error: 0.0703\n",
      "Epoch 32/50\n",
      "5/5 - 0s - 72ms/step - loss: 0.0044 - mean_absolute_error: 0.0546 - val_loss: 0.0059 - val_mean_absolute_error: 0.0670\n",
      "Epoch 33/50\n",
      "5/5 - 0s - 72ms/step - loss: 0.0044 - mean_absolute_error: 0.0548 - val_loss: 0.0077 - val_mean_absolute_error: 0.0761\n",
      "Epoch 34/50\n",
      "5/5 - 0s - 72ms/step - loss: 0.0043 - mean_absolute_error: 0.0545 - val_loss: 0.0058 - val_mean_absolute_error: 0.0661\n",
      "Epoch 35/50\n",
      "5/5 - 0s - 73ms/step - loss: 0.0042 - mean_absolute_error: 0.0541 - val_loss: 0.0071 - val_mean_absolute_error: 0.0736\n",
      "Epoch 36/50\n",
      "5/5 - 0s - 72ms/step - loss: 0.0042 - mean_absolute_error: 0.0540 - val_loss: 0.0070 - val_mean_absolute_error: 0.0727\n",
      "Epoch 37/50\n",
      "5/5 - 0s - 72ms/step - loss: 0.0043 - mean_absolute_error: 0.0543 - val_loss: 0.0062 - val_mean_absolute_error: 0.0685\n",
      "Epoch 38/50\n",
      "5/5 - 0s - 76ms/step - loss: 0.0041 - mean_absolute_error: 0.0537 - val_loss: 0.0080 - val_mean_absolute_error: 0.0776\n",
      "Epoch 39/50\n",
      "5/5 - 0s - 72ms/step - loss: 0.0041 - mean_absolute_error: 0.0531 - val_loss: 0.0058 - val_mean_absolute_error: 0.0661\n",
      "Epoch 40/50\n",
      "5/5 - 0s - 76ms/step - loss: 0.0041 - mean_absolute_error: 0.0532 - val_loss: 0.0061 - val_mean_absolute_error: 0.0682\n",
      "Epoch 41/50\n",
      "5/5 - 0s - 75ms/step - loss: 0.0040 - mean_absolute_error: 0.0528 - val_loss: 0.0074 - val_mean_absolute_error: 0.0746\n",
      "Epoch 42/50\n",
      "5/5 - 0s - 73ms/step - loss: 0.0040 - mean_absolute_error: 0.0531 - val_loss: 0.0061 - val_mean_absolute_error: 0.0681\n",
      "Epoch 43/50\n",
      "5/5 - 0s - 72ms/step - loss: 0.0040 - mean_absolute_error: 0.0527 - val_loss: 0.0077 - val_mean_absolute_error: 0.0758\n",
      "Epoch 44/50\n",
      "5/5 - 0s - 76ms/step - loss: 0.0040 - mean_absolute_error: 0.0530 - val_loss: 0.0071 - val_mean_absolute_error: 0.0730\n",
      "Epoch 45/50\n",
      "5/5 - 0s - 77ms/step - loss: 0.0039 - mean_absolute_error: 0.0524 - val_loss: 0.0068 - val_mean_absolute_error: 0.0717\n",
      "Epoch 46/50\n",
      "5/5 - 0s - 72ms/step - loss: 0.0038 - mean_absolute_error: 0.0518 - val_loss: 0.0068 - val_mean_absolute_error: 0.0716\n",
      "Epoch 47/50\n",
      "5/5 - 0s - 75ms/step - loss: 0.0038 - mean_absolute_error: 0.0519 - val_loss: 0.0070 - val_mean_absolute_error: 0.0726\n",
      "Epoch 48/50\n",
      "5/5 - 0s - 72ms/step - loss: 0.0038 - mean_absolute_error: 0.0518 - val_loss: 0.0069 - val_mean_absolute_error: 0.0721\n",
      "Epoch 49/50\n",
      "5/5 - 0s - 79ms/step - loss: 0.0037 - mean_absolute_error: 0.0513 - val_loss: 0.0066 - val_mean_absolute_error: 0.0702\n",
      "Epoch 50/50\n",
      "5/5 - 0s - 72ms/step - loss: 0.0038 - mean_absolute_error: 0.0525 - val_loss: 0.0074 - val_mean_absolute_error: 0.0744\n"
     ]
    },
    {
     "data": {
      "text/plain": [
       "<keras.src.callbacks.history.History at 0x1bcf71ffb30>"
      ]
     },
     "execution_count": 219,
     "metadata": {},
     "output_type": "execute_result"
    }
   ],
   "source": [
    "model.fit(X_train,Y_train,epochs=50,validation_data=(X_test,Y_test),batch_size=32,verbose=2)"
   ]
  },
  {
   "cell_type": "markdown",
   "id": "17117972",
   "metadata": {},
   "source": [
    "## predictions on test data"
   ]
  },
  {
   "cell_type": "code",
   "execution_count": 220,
   "id": "c40780d3",
   "metadata": {},
   "outputs": [
    {
     "name": "stdout",
     "output_type": "stream",
     "text": [
      "\u001b[1m2/2\u001b[0m \u001b[32m━━━━━━━━━━━━━━━━━━━━\u001b[0m\u001b[37m\u001b[0m \u001b[1m1s\u001b[0m 488ms/step\n"
     ]
    },
    {
     "data": {
      "text/plain": [
       "(39, 1)"
      ]
     },
     "execution_count": 220,
     "metadata": {},
     "output_type": "execute_result"
    }
   ],
   "source": [
    "Y_pred=model.predict(X_test)\n",
    "Y_pred.shape"
   ]
  },
  {
   "cell_type": "markdown",
   "id": "e2024472",
   "metadata": {},
   "source": [
    "## Inverse transform the predictions and actual data into original scale"
   ]
  },
  {
   "cell_type": "code",
   "execution_count": null,
   "id": "c94b6931",
   "metadata": {},
   "outputs": [],
   "source": [
    "# Preprocess the data\n",
    "actual_data=minmax.inverse_transform(Y_test)\n",
    "predicted_data=minmax.inverse_transform(Y_pred)#not reshaping the data as it is already in 2D array"
   ]
  },
  {
   "cell_type": "code",
   "execution_count": null,
   "id": "895104f0",
   "metadata": {},
   "outputs": [
    {
     "data": {
      "text/plain": [
       "array([[0.68292946],\n",
       "       [0.67285144],\n",
       "       [0.66285765],\n",
       "       [0.6561328 ],\n",
       "       [0.6516227 ]], dtype=float32)"
      ]
     },
     "execution_count": 222,
     "metadata": {},
     "output_type": "execute_result"
    }
   ],
   "source": [
    "predicted_data[:5]\n"
   ]
  },
  {
   "cell_type": "markdown",
   "id": "e68bf5f2",
   "metadata": {},
   "source": [
    "# Evaluate the model"
   ]
  },
  {
   "cell_type": "code",
   "execution_count": null,
   "id": "4b8c1215",
   "metadata": {},
   "outputs": [
    {
     "name": "stdout",
     "output_type": "stream",
     "text": [
      "\u001b[1m2/2\u001b[0m \u001b[32m━━━━━━━━━━━━━━━━━━━━\u001b[0m\u001b[37m\u001b[0m \u001b[1m0s\u001b[0m 14ms/step - Accuracy: 0.0171 - loss: 0.0067    \n"
     ]
    },
    {
     "data": {
      "text/plain": [
       "[0.007108771707862616, 0.025641025975346565]"
      ]
     },
     "execution_count": 215,
     "metadata": {},
     "output_type": "execute_result"
    }
   ],
   "source": [
    "model.evaluate(X_test,Y_test)"
   ]
  },
  {
   "cell_type": "markdown",
   "id": "12def2a7",
   "metadata": {},
   "source": [
    "## calculating meansquared error,r2score\n"
   ]
  },
  {
   "cell_type": "code",
   "execution_count": 224,
   "id": "4cec8ce2",
   "metadata": {},
   "outputs": [
    {
     "name": "stdout",
     "output_type": "stream",
     "text": [
      "R2 Score: 0.4987\n",
      "Mean Squared Error: 0.0074\n"
     ]
    }
   ],
   "source": [
    "r2score=r2_score(actual_data,predicted_data)\n",
    "print(f\"R2 Score: {r2score:.4f}\")\n",
    "mean_squared_error_value=mean_squared_error(actual_data,predicted_data)\n",
    "print(f\"Mean Squared Error: {mean_squared_error_value:.4f}\")\n"
   ]
  },
  {
   "cell_type": "markdown",
   "id": "be9f6958",
   "metadata": {},
   "source": [
    "# Visualize the results"
   ]
  },
  {
   "cell_type": "code",
   "execution_count": 226,
   "id": "f1cace78",
   "metadata": {},
   "outputs": [
    {
     "data": {
      "image/png": "[encoded data removed]",
      "text/plain": [
       "<Figure size 1400x500 with 1 Axes>"
      ]
     },
     "metadata": {},
     "output_type": "display_data"
    }
   ],
   "source": [
    "plt.figure(figsize=(14,5))\n",
    "plt.plot(actual_data, label='Actual Price', color='blue')\n",
    "plt.plot(predicted_data, label='Predicted Price', color='red')\n",
    "plt.title('Apple Stock Price Prediction')\n",
    "plt.xlabel('Time')\n",
    "plt.ylabel('Price')\n",
    "plt.legend()\n",
    "plt.grid()\n",
    "plt.show()"
   ]
  }
 ],
 "metadata": {
  "kernelspec": {
   "display_name": "Python 3",
   "language": "python",
   "name": "python3"
  },
  "language_info": {
   "codemirror_mode": {
    "name": "ipython",
    "version": 3
   },
   "file_extension": ".py",
   "mimetype": "text/x-python",
   "name": "python",
   "nbconvert_exporter": "python",
   "pygments_lexer": "ipython3",
   "version": "3.12.6"
  }
 },
 "nbformat": 4,
 "nbformat_minor": 5
}
